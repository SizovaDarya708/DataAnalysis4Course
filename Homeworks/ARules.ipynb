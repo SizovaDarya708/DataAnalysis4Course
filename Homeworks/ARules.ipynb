{
 "cells": [
  {
   "cell_type": "code",
   "execution_count": 1,
   "metadata": {},
   "outputs": [],
   "source": [
    "from IPython.display import display, Math, Latex\n",
    "from IPython.core.display import HTML "
   ]
  },
  {
   "cell_type": "markdown",
   "metadata": {},
   "source": [
    "*Ассоциативные правила*"
   ]
  },
  {
   "cell_type": "markdown",
   "metadata": {},
   "source": [
    "Ассоциативные правила позволяют находить закономерности между связанными событиями. Примером такого правила служит утверждение, что покупатель, приобретающий «Хлеб», приобретет и «Молоко» с вероятностью 75%. "
   ]
  },
  {
   "cell_type": "markdown",
   "metadata": {},
   "source": [
    "Впервые задача поиска ассоциативных правил была предложена для нахождения типичных шаблонов покупок, совершаемых в супермаркетах, поэтому иногда ее еще называют анализом рыночной корзины (market basket analysis).\n",
    "\n",
    "Пусть имеется база данных, состоящая из покупательских транзакций. Каждая транзакция — это набор товаров, купленных покупателем за один визит. Такую транзакцию еще называют рыночной корзиной."
   ]
  },
  {
   "cell_type": "markdown",
   "metadata": {},
   "source": [
    "Определение 1. Пусть I = \\{i_1,\\,i_2,\\,i_3,\\,\\dots,\\,i_n\\}I={i \n",
    "1\n",
    "​\t ,i \n",
    "2\n",
    "​\t ,i \n",
    "3\n",
    "​\t ,…,i \n",
    "n\n",
    "​\t } — множество (набор) товаров, называемых элементами. Пусть DD — множество транзакций, где каждая транзакция TT — это набор элементов из II, T\\subseteq IT⊆I. Каждая транзакция представляет собой бинарный вектор, где t[k]=1t[k]=1, если i_ki \n",
    "k\n",
    "​\t  элемент присутствует в транзакции, иначе t[k]=0t[k]=0. Мы говорим, что транзакция TT содержит XX, некоторый набор элементов из II, если X\\subset TX⊂T. Ассоциативным правилом называется импликация X\\Rightarrow YX⇒Y, где X\\subset IX⊂I, Y\\subset IY⊂I и X\\cap Y=\\oslashX∩Y=⊘. Правило X⇒YX⇒Y имеет поддержку ss (support), если ss% транзакций из DD, содержат X\\cup YX∪Y, supp(X\\Rightarrow Y) = supp(X\\cup Y)supp(X⇒Y)=supp(X∪Y). Достоверность правила показывает какова вероятность того, что из XX следует YY. Правило X⇒YX⇒Y справедливо с достоверностью (confidence) cc, если cc% транзакций из DD, содержащих XX, также содержат YY, conf(X\\Rightarrow Y) = supp(X\\cup Y)/supp(X)conf(X⇒Y)=supp(X∪Y)/supp(X)."
   ]
  },
  {
   "cell_type": "code",
   "execution_count": 2,
   "metadata": {},
   "outputs": [],
   "source": [
    "# подгрузим модули\n",
    "import numpy as np\n",
    "import matplotlib.pyplot as plt\n",
    "import pandas as pd"
   ]
  },
  {
   "cell_type": "code",
   "execution_count": 3,
   "metadata": {},
   "outputs": [],
   "source": [
    "# загрузим данные\n",
    "dataset = pd.read_csv('Market_Basket_Optimisation.csv', header = None)"
   ]
  },
  {
   "cell_type": "code",
   "execution_count": 4,
   "metadata": {},
   "outputs": [
    {
     "data": {
      "text/html": [
       "<div>\n",
       "<style scoped>\n",
       "    .dataframe tbody tr th:only-of-type {\n",
       "        vertical-align: middle;\n",
       "    }\n",
       "\n",
       "    .dataframe tbody tr th {\n",
       "        vertical-align: top;\n",
       "    }\n",
       "\n",
       "    .dataframe thead th {\n",
       "        text-align: right;\n",
       "    }\n",
       "</style>\n",
       "<table border=\"1\" class=\"dataframe\">\n",
       "  <thead>\n",
       "    <tr style=\"text-align: right;\">\n",
       "      <th></th>\n",
       "      <th>0</th>\n",
       "      <th>1</th>\n",
       "      <th>2</th>\n",
       "      <th>3</th>\n",
       "      <th>4</th>\n",
       "      <th>5</th>\n",
       "      <th>6</th>\n",
       "      <th>7</th>\n",
       "      <th>8</th>\n",
       "      <th>9</th>\n",
       "      <th>10</th>\n",
       "      <th>11</th>\n",
       "      <th>12</th>\n",
       "      <th>13</th>\n",
       "      <th>14</th>\n",
       "      <th>15</th>\n",
       "      <th>16</th>\n",
       "      <th>17</th>\n",
       "      <th>18</th>\n",
       "      <th>19</th>\n",
       "    </tr>\n",
       "  </thead>\n",
       "  <tbody>\n",
       "    <tr>\n",
       "      <th>0</th>\n",
       "      <td>shrimp</td>\n",
       "      <td>almonds</td>\n",
       "      <td>avocado</td>\n",
       "      <td>vegetables mix</td>\n",
       "      <td>green grapes</td>\n",
       "      <td>whole weat flour</td>\n",
       "      <td>yams</td>\n",
       "      <td>cottage cheese</td>\n",
       "      <td>energy drink</td>\n",
       "      <td>tomato juice</td>\n",
       "      <td>low fat yogurt</td>\n",
       "      <td>green tea</td>\n",
       "      <td>honey</td>\n",
       "      <td>salad</td>\n",
       "      <td>mineral water</td>\n",
       "      <td>salmon</td>\n",
       "      <td>antioxydant juice</td>\n",
       "      <td>frozen smoothie</td>\n",
       "      <td>spinach</td>\n",
       "      <td>olive oil</td>\n",
       "    </tr>\n",
       "    <tr>\n",
       "      <th>1</th>\n",
       "      <td>burgers</td>\n",
       "      <td>meatballs</td>\n",
       "      <td>eggs</td>\n",
       "      <td>NaN</td>\n",
       "      <td>NaN</td>\n",
       "      <td>NaN</td>\n",
       "      <td>NaN</td>\n",
       "      <td>NaN</td>\n",
       "      <td>NaN</td>\n",
       "      <td>NaN</td>\n",
       "      <td>NaN</td>\n",
       "      <td>NaN</td>\n",
       "      <td>NaN</td>\n",
       "      <td>NaN</td>\n",
       "      <td>NaN</td>\n",
       "      <td>NaN</td>\n",
       "      <td>NaN</td>\n",
       "      <td>NaN</td>\n",
       "      <td>NaN</td>\n",
       "      <td>NaN</td>\n",
       "    </tr>\n",
       "    <tr>\n",
       "      <th>2</th>\n",
       "      <td>chutney</td>\n",
       "      <td>NaN</td>\n",
       "      <td>NaN</td>\n",
       "      <td>NaN</td>\n",
       "      <td>NaN</td>\n",
       "      <td>NaN</td>\n",
       "      <td>NaN</td>\n",
       "      <td>NaN</td>\n",
       "      <td>NaN</td>\n",
       "      <td>NaN</td>\n",
       "      <td>NaN</td>\n",
       "      <td>NaN</td>\n",
       "      <td>NaN</td>\n",
       "      <td>NaN</td>\n",
       "      <td>NaN</td>\n",
       "      <td>NaN</td>\n",
       "      <td>NaN</td>\n",
       "      <td>NaN</td>\n",
       "      <td>NaN</td>\n",
       "      <td>NaN</td>\n",
       "    </tr>\n",
       "    <tr>\n",
       "      <th>3</th>\n",
       "      <td>turkey</td>\n",
       "      <td>avocado</td>\n",
       "      <td>NaN</td>\n",
       "      <td>NaN</td>\n",
       "      <td>NaN</td>\n",
       "      <td>NaN</td>\n",
       "      <td>NaN</td>\n",
       "      <td>NaN</td>\n",
       "      <td>NaN</td>\n",
       "      <td>NaN</td>\n",
       "      <td>NaN</td>\n",
       "      <td>NaN</td>\n",
       "      <td>NaN</td>\n",
       "      <td>NaN</td>\n",
       "      <td>NaN</td>\n",
       "      <td>NaN</td>\n",
       "      <td>NaN</td>\n",
       "      <td>NaN</td>\n",
       "      <td>NaN</td>\n",
       "      <td>NaN</td>\n",
       "    </tr>\n",
       "    <tr>\n",
       "      <th>4</th>\n",
       "      <td>mineral water</td>\n",
       "      <td>milk</td>\n",
       "      <td>energy bar</td>\n",
       "      <td>whole wheat rice</td>\n",
       "      <td>green tea</td>\n",
       "      <td>NaN</td>\n",
       "      <td>NaN</td>\n",
       "      <td>NaN</td>\n",
       "      <td>NaN</td>\n",
       "      <td>NaN</td>\n",
       "      <td>NaN</td>\n",
       "      <td>NaN</td>\n",
       "      <td>NaN</td>\n",
       "      <td>NaN</td>\n",
       "      <td>NaN</td>\n",
       "      <td>NaN</td>\n",
       "      <td>NaN</td>\n",
       "      <td>NaN</td>\n",
       "      <td>NaN</td>\n",
       "      <td>NaN</td>\n",
       "    </tr>\n",
       "  </tbody>\n",
       "</table>\n",
       "</div>"
      ],
      "text/plain": [
       "              0          1           2                 3             4   \\\n",
       "0         shrimp    almonds     avocado    vegetables mix  green grapes   \n",
       "1        burgers  meatballs        eggs               NaN           NaN   \n",
       "2        chutney        NaN         NaN               NaN           NaN   \n",
       "3         turkey    avocado         NaN               NaN           NaN   \n",
       "4  mineral water       milk  energy bar  whole wheat rice     green tea   \n",
       "\n",
       "                 5     6               7             8             9   \\\n",
       "0  whole weat flour  yams  cottage cheese  energy drink  tomato juice   \n",
       "1               NaN   NaN             NaN           NaN           NaN   \n",
       "2               NaN   NaN             NaN           NaN           NaN   \n",
       "3               NaN   NaN             NaN           NaN           NaN   \n",
       "4               NaN   NaN             NaN           NaN           NaN   \n",
       "\n",
       "               10         11     12     13             14      15  \\\n",
       "0  low fat yogurt  green tea  honey  salad  mineral water  salmon   \n",
       "1             NaN        NaN    NaN    NaN            NaN     NaN   \n",
       "2             NaN        NaN    NaN    NaN            NaN     NaN   \n",
       "3             NaN        NaN    NaN    NaN            NaN     NaN   \n",
       "4             NaN        NaN    NaN    NaN            NaN     NaN   \n",
       "\n",
       "                  16               17       18         19  \n",
       "0  antioxydant juice  frozen smoothie  spinach  olive oil  \n",
       "1                NaN              NaN      NaN        NaN  \n",
       "2                NaN              NaN      NaN        NaN  \n",
       "3                NaN              NaN      NaN        NaN  \n",
       "4                NaN              NaN      NaN        NaN  "
      ]
     },
     "execution_count": 4,
     "metadata": {},
     "output_type": "execute_result"
    }
   ],
   "source": [
    "# посомтрим на датасет\n",
    "dataset.head()"
   ]
  },
  {
   "cell_type": "code",
   "execution_count": 5,
   "metadata": {},
   "outputs": [],
   "source": [
    "dataset.fillna(method = 'ffill',axis = 1, inplace = True)"
   ]
  },
  {
   "cell_type": "markdown",
   "metadata": {},
   "source": [
    "Видим, что датасет у нас представляет разреженную матрицу, где в строках у нас набор items в каждой транзакции."
   ]
  },
  {
   "cell_type": "code",
   "execution_count": 6,
   "metadata": {},
   "outputs": [
    {
     "data": {
      "text/html": [
       "<div>\n",
       "<style scoped>\n",
       "    .dataframe tbody tr th:only-of-type {\n",
       "        vertical-align: middle;\n",
       "    }\n",
       "\n",
       "    .dataframe tbody tr th {\n",
       "        vertical-align: top;\n",
       "    }\n",
       "\n",
       "    .dataframe thead th {\n",
       "        text-align: right;\n",
       "    }\n",
       "</style>\n",
       "<table border=\"1\" class=\"dataframe\">\n",
       "  <thead>\n",
       "    <tr style=\"text-align: right;\">\n",
       "      <th></th>\n",
       "      <th>0</th>\n",
       "      <th>1</th>\n",
       "      <th>2</th>\n",
       "      <th>3</th>\n",
       "      <th>4</th>\n",
       "      <th>5</th>\n",
       "      <th>6</th>\n",
       "      <th>7</th>\n",
       "      <th>8</th>\n",
       "      <th>9</th>\n",
       "      <th>10</th>\n",
       "      <th>11</th>\n",
       "      <th>12</th>\n",
       "      <th>13</th>\n",
       "      <th>14</th>\n",
       "      <th>15</th>\n",
       "      <th>16</th>\n",
       "      <th>17</th>\n",
       "      <th>18</th>\n",
       "      <th>19</th>\n",
       "    </tr>\n",
       "  </thead>\n",
       "  <tbody>\n",
       "    <tr>\n",
       "      <th>0</th>\n",
       "      <td>shrimp</td>\n",
       "      <td>almonds</td>\n",
       "      <td>avocado</td>\n",
       "      <td>vegetables mix</td>\n",
       "      <td>green grapes</td>\n",
       "      <td>whole weat flour</td>\n",
       "      <td>yams</td>\n",
       "      <td>cottage cheese</td>\n",
       "      <td>energy drink</td>\n",
       "      <td>tomato juice</td>\n",
       "      <td>low fat yogurt</td>\n",
       "      <td>green tea</td>\n",
       "      <td>honey</td>\n",
       "      <td>salad</td>\n",
       "      <td>mineral water</td>\n",
       "      <td>salmon</td>\n",
       "      <td>antioxydant juice</td>\n",
       "      <td>frozen smoothie</td>\n",
       "      <td>spinach</td>\n",
       "      <td>olive oil</td>\n",
       "    </tr>\n",
       "    <tr>\n",
       "      <th>1</th>\n",
       "      <td>burgers</td>\n",
       "      <td>meatballs</td>\n",
       "      <td>eggs</td>\n",
       "      <td>eggs</td>\n",
       "      <td>eggs</td>\n",
       "      <td>eggs</td>\n",
       "      <td>eggs</td>\n",
       "      <td>eggs</td>\n",
       "      <td>eggs</td>\n",
       "      <td>eggs</td>\n",
       "      <td>eggs</td>\n",
       "      <td>eggs</td>\n",
       "      <td>eggs</td>\n",
       "      <td>eggs</td>\n",
       "      <td>eggs</td>\n",
       "      <td>eggs</td>\n",
       "      <td>eggs</td>\n",
       "      <td>eggs</td>\n",
       "      <td>eggs</td>\n",
       "      <td>eggs</td>\n",
       "    </tr>\n",
       "    <tr>\n",
       "      <th>2</th>\n",
       "      <td>chutney</td>\n",
       "      <td>chutney</td>\n",
       "      <td>chutney</td>\n",
       "      <td>chutney</td>\n",
       "      <td>chutney</td>\n",
       "      <td>chutney</td>\n",
       "      <td>chutney</td>\n",
       "      <td>chutney</td>\n",
       "      <td>chutney</td>\n",
       "      <td>chutney</td>\n",
       "      <td>chutney</td>\n",
       "      <td>chutney</td>\n",
       "      <td>chutney</td>\n",
       "      <td>chutney</td>\n",
       "      <td>chutney</td>\n",
       "      <td>chutney</td>\n",
       "      <td>chutney</td>\n",
       "      <td>chutney</td>\n",
       "      <td>chutney</td>\n",
       "      <td>chutney</td>\n",
       "    </tr>\n",
       "    <tr>\n",
       "      <th>3</th>\n",
       "      <td>turkey</td>\n",
       "      <td>avocado</td>\n",
       "      <td>avocado</td>\n",
       "      <td>avocado</td>\n",
       "      <td>avocado</td>\n",
       "      <td>avocado</td>\n",
       "      <td>avocado</td>\n",
       "      <td>avocado</td>\n",
       "      <td>avocado</td>\n",
       "      <td>avocado</td>\n",
       "      <td>avocado</td>\n",
       "      <td>avocado</td>\n",
       "      <td>avocado</td>\n",
       "      <td>avocado</td>\n",
       "      <td>avocado</td>\n",
       "      <td>avocado</td>\n",
       "      <td>avocado</td>\n",
       "      <td>avocado</td>\n",
       "      <td>avocado</td>\n",
       "      <td>avocado</td>\n",
       "    </tr>\n",
       "    <tr>\n",
       "      <th>4</th>\n",
       "      <td>mineral water</td>\n",
       "      <td>milk</td>\n",
       "      <td>energy bar</td>\n",
       "      <td>whole wheat rice</td>\n",
       "      <td>green tea</td>\n",
       "      <td>green tea</td>\n",
       "      <td>green tea</td>\n",
       "      <td>green tea</td>\n",
       "      <td>green tea</td>\n",
       "      <td>green tea</td>\n",
       "      <td>green tea</td>\n",
       "      <td>green tea</td>\n",
       "      <td>green tea</td>\n",
       "      <td>green tea</td>\n",
       "      <td>green tea</td>\n",
       "      <td>green tea</td>\n",
       "      <td>green tea</td>\n",
       "      <td>green tea</td>\n",
       "      <td>green tea</td>\n",
       "      <td>green tea</td>\n",
       "    </tr>\n",
       "  </tbody>\n",
       "</table>\n",
       "</div>"
      ],
      "text/plain": [
       "              0          1           2                 3             4   \\\n",
       "0         shrimp    almonds     avocado    vegetables mix  green grapes   \n",
       "1        burgers  meatballs        eggs              eggs          eggs   \n",
       "2        chutney    chutney     chutney           chutney       chutney   \n",
       "3         turkey    avocado     avocado           avocado       avocado   \n",
       "4  mineral water       milk  energy bar  whole wheat rice     green tea   \n",
       "\n",
       "                 5          6               7             8             9   \\\n",
       "0  whole weat flour       yams  cottage cheese  energy drink  tomato juice   \n",
       "1              eggs       eggs            eggs          eggs          eggs   \n",
       "2           chutney    chutney         chutney       chutney       chutney   \n",
       "3           avocado    avocado         avocado       avocado       avocado   \n",
       "4         green tea  green tea       green tea     green tea     green tea   \n",
       "\n",
       "               10         11         12         13             14         15  \\\n",
       "0  low fat yogurt  green tea      honey      salad  mineral water     salmon   \n",
       "1            eggs       eggs       eggs       eggs           eggs       eggs   \n",
       "2         chutney    chutney    chutney    chutney        chutney    chutney   \n",
       "3         avocado    avocado    avocado    avocado        avocado    avocado   \n",
       "4       green tea  green tea  green tea  green tea      green tea  green tea   \n",
       "\n",
       "                  16               17         18         19  \n",
       "0  antioxydant juice  frozen smoothie    spinach  olive oil  \n",
       "1               eggs             eggs       eggs       eggs  \n",
       "2            chutney          chutney    chutney    chutney  \n",
       "3            avocado          avocado    avocado    avocado  \n",
       "4          green tea        green tea  green tea  green tea  "
      ]
     },
     "execution_count": 6,
     "metadata": {},
     "output_type": "execute_result"
    }
   ],
   "source": [
    "dataset.head()"
   ]
  },
  {
   "cell_type": "markdown",
   "metadata": {},
   "source": [
    "Другими словами, целью анализа является установление следующих зависимостей: если в транзакции встретился некоторый набор элементов XX, то на основании этого можно сделать вывод о том, что другой набор элементов YY также же должен появиться в этой транзакции. Установление таких зависимостей дает нам возможность находить очень простые и интуитивно понятные правила."
   ]
  },
  {
   "cell_type": "code",
   "execution_count": 7,
   "metadata": {},
   "outputs": [],
   "source": [
    "#создаим из них матрицу\n",
    "transactions = []\n",
    "for i in range(0, 7501): \n",
    "    transactions.append([str(dataset.values[i,j]) for j in range(0, 20)])"
   ]
  },
  {
   "cell_type": "code",
   "execution_count": 42,
   "metadata": {},
   "outputs": [],
   "source": [
    "#загружаем apriori\n",
    "import apyori\n",
    "from apyori import apriori"
   ]
  },
  {
   "cell_type": "code",
   "execution_count": 44,
   "metadata": {},
   "outputs": [
    {
     "name": "stdout",
     "output_type": "stream",
     "text": [
      "Wall time: 1.64 s\n"
     ]
    }
   ],
   "source": [
    "%%time\n",
    "# и обучимся правилам. Обратите внимание, что пороговые значения мы вибираем сами в зависимости от того, /\n",
    "# насколкьо \"сильные\" правила мы хотим получить\n",
    "# min_support -- минимальный support для правил (dtype = float).\n",
    "# min_confidence -- минимальное значение confidence для правил (dtype = float)\n",
    "# min_lift -- минимальный lift (dtype = float)\n",
    "# max_length -- максимальная длина itemset (вспоминаем про k-itemset)  (dtype = integer)\n",
    "\n",
    "result = list(apyori.apriori(transactions, min_support = 0.003, min_confidence = 0.2, min_lift = 4, min_length = 2))"
   ]
  },
  {
   "cell_type": "markdown",
   "metadata": {},
   "source": [
    "Визуализируем выход"
   ]
  },
  {
   "cell_type": "code",
   "execution_count": 45,
   "metadata": {},
   "outputs": [],
   "source": [
    "import shutil, os "
   ]
  },
  {
   "cell_type": "code",
   "execution_count": 46,
   "metadata": {},
   "outputs": [],
   "source": [
    "try:\n",
    "    from StringIO import StringIO\n",
    "except ImportError:\n",
    "    from io import StringIO"
   ]
  },
  {
   "cell_type": "code",
   "execution_count": 47,
   "metadata": {},
   "outputs": [],
   "source": [
    "import json #преобразовывать будем в json, используя встроенные в модуль методы"
   ]
  },
  {
   "cell_type": "code",
   "execution_count": 48,
   "metadata": {},
   "outputs": [],
   "source": [
    "output = []\n",
    "for RelationRecord in result:\n",
    "    o = StringIO()\n",
    "    apyori.dump_as_json(RelationRecord, o)\n",
    "    output.append(json.loads(o.getvalue()))\n",
    "data_df = pd.DataFrame(output)"
   ]
  },
  {
   "cell_type": "code",
   "execution_count": 49,
   "metadata": {},
   "outputs": [
    {
     "data": {
      "text/html": [
       "<table border=\"1\" class=\"dataframe\">\n",
       "  <thead>\n",
       "    <tr style=\"text-align: right;\">\n",
       "      <th></th>\n",
       "      <th>items</th>\n",
       "      <th>ordered_statistics</th>\n",
       "      <th>support</th>\n",
       "    </tr>\n",
       "  </thead>\n",
       "  <tbody>\n",
       "    <tr>\n",
       "      <th>0</th>\n",
       "      <td>[chicken, light cream]</td>\n",
       "      <td>[{'items_base': ['light cream'], 'items_add': ['chicken'], 'confidence': 0.29059829059829057, 'lift': 4.84395061728395}]</td>\n",
       "      <td>0.004533</td>\n",
       "    </tr>\n",
       "    <tr>\n",
       "      <th>1</th>\n",
       "      <td>[escalope, pasta]</td>\n",
       "      <td>[{'items_base': ['pasta'], 'items_add': ['escalope'], 'confidence': 0.3728813559322034, 'lift': 4.700811850163794}]</td>\n",
       "      <td>0.005866</td>\n",
       "    </tr>\n",
       "    <tr>\n",
       "      <th>2</th>\n",
       "      <td>[fromage blanc, honey]</td>\n",
       "      <td>[{'items_base': ['fromage blanc'], 'items_add': ['honey'], 'confidence': 0.2450980392156863, 'lift': 5.164270764485569}]</td>\n",
       "      <td>0.003333</td>\n",
       "    </tr>\n",
       "    <tr>\n",
       "      <th>3</th>\n",
       "      <td>[olive oil, whole wheat pasta]</td>\n",
       "      <td>[{'items_base': ['whole wheat pasta'], 'items_add': ['olive oil'], 'confidence': 0.2714932126696833, 'lift': 4.122410097642296}]</td>\n",
       "      <td>0.007999</td>\n",
       "    </tr>\n",
       "    <tr>\n",
       "      <th>4</th>\n",
       "      <td>[pasta, shrimp]</td>\n",
       "      <td>[{'items_base': ['pasta'], 'items_add': ['shrimp'], 'confidence': 0.3220338983050847, 'lift': 4.506672147735896}]</td>\n",
       "      <td>0.005066</td>\n",
       "    </tr>\n",
       "    <tr>\n",
       "      <th>5</th>\n",
       "      <td>[cake, frozen vegetables, tomatoes]</td>\n",
       "      <td>[{'items_base': ['cake', 'frozen vegetables'], 'items_add': ['tomatoes'], 'confidence': 0.2987012987012987, 'lift': 4.367560314928736}]</td>\n",
       "      <td>0.003066</td>\n",
       "    </tr>\n",
       "    <tr>\n",
       "      <th>6</th>\n",
       "      <td>[cereals, ground beef, spaghetti]</td>\n",
       "      <td>[{'items_base': ['cereals', 'spaghetti'], 'items_add': ['ground beef'], 'confidence': 0.45999999999999996, 'lift': 4.681763907734057}]</td>\n",
       "      <td>0.003066</td>\n",
       "    </tr>\n",
       "    <tr>\n",
       "      <th>7</th>\n",
       "      <td>[chocolate, ground beef, herb &amp; pepper]</td>\n",
       "      <td>[{'items_base': ['chocolate', 'herb &amp; pepper'], 'items_add': ['ground beef'], 'confidence': 0.4411764705882354, 'lift': 4.4901827759597746}]</td>\n",
       "      <td>0.003999</td>\n",
       "    </tr>\n",
       "    <tr>\n",
       "      <th>8</th>\n",
       "      <td>[eggs, ground beef, herb &amp; pepper]</td>\n",
       "      <td>[{'items_base': ['eggs', 'ground beef'], 'items_add': ['herb &amp; pepper'], 'confidence': 0.2066666666666667, 'lift': 4.178454627133872}]</td>\n",
       "      <td>0.004133</td>\n",
       "    </tr>\n",
       "    <tr>\n",
       "      <th>9</th>\n",
       "      <td>[french fries, ground beef, herb &amp; pepper]</td>\n",
       "      <td>[{'items_base': ['french fries', 'ground beef'], 'items_add': ['herb &amp; pepper'], 'confidence': 0.23076923076923078, 'lift': 4.665768194070081}, {'items_base': ['french fries', 'herb &amp; pepper'], 'items_add': ['ground beef'], 'confidence': 0.46153846153846156, 'lift': 4.697421981004071}]</td>\n",
       "      <td>0.003200</td>\n",
       "    </tr>\n",
       "    <tr>\n",
       "      <th>10</th>\n",
       "      <td>[ground beef, herb &amp; pepper, spaghetti]</td>\n",
       "      <td>[{'items_base': ['herb &amp; pepper', 'spaghetti'], 'items_add': ['ground beef'], 'confidence': 0.3934426229508197, 'lift': 4.004359721511667}]</td>\n",
       "      <td>0.006399</td>\n",
       "    </tr>\n",
       "    <tr>\n",
       "      <th>11</th>\n",
       "      <td>[ground beef, spaghetti, tomato sauce]</td>\n",
       "      <td>[{'items_base': ['tomato sauce'], 'items_add': ['ground beef', 'spaghetti'], 'confidence': 0.2169811320754717, 'lift': 5.535970992170453}, {'items_base': ['spaghetti', 'tomato sauce'], 'items_add': ['ground beef'], 'confidence': 0.4893617021276596, 'lift': 4.980599901844742}]</td>\n",
       "      <td>0.003066</td>\n",
       "    </tr>\n",
       "    <tr>\n",
       "      <th>12</th>\n",
       "      <td>[milk, olive oil, soup]</td>\n",
       "      <td>[{'items_base': ['milk', 'olive oil'], 'items_add': ['soup'], 'confidence': 0.2109375, 'lift': 4.174781497361478}]</td>\n",
       "      <td>0.003600</td>\n",
       "    </tr>\n",
       "    <tr>\n",
       "      <th>13</th>\n",
       "      <td>[milk, soup, tomatoes]</td>\n",
       "      <td>[{'items_base': ['milk', 'tomatoes'], 'items_add': ['soup'], 'confidence': 0.21904761904761905, 'lift': 4.335293378565146}]</td>\n",
       "      <td>0.003066</td>\n",
       "    </tr>\n",
       "    <tr>\n",
       "      <th>14</th>\n",
       "      <td>[mineral water, olive oil, whole wheat pasta]</td>\n",
       "      <td>[{'items_base': ['mineral water', 'whole wheat pasta'], 'items_add': ['olive oil'], 'confidence': 0.4027777777777778, 'lift': 6.115862573099416}]</td>\n",
       "      <td>0.003866</td>\n",
       "    </tr>\n",
       "    <tr>\n",
       "      <th>15</th>\n",
       "      <td>[chocolate, frozen vegetables, mineral water, shrimp]</td>\n",
       "      <td>[{'items_base': ['chocolate', 'frozen vegetables', 'mineral water'], 'items_add': ['shrimp'], 'confidence': 0.32876712328767127, 'lift': 4.600899611531385}, {'items_base': ['chocolate', 'mineral water', 'shrimp'], 'items_add': ['frozen vegetables'], 'confidence': 0.4210526315789474, 'lift': 4.417224880382776}]</td>\n",
       "      <td>0.003200</td>\n",
       "    </tr>\n",
       "    <tr>\n",
       "      <th>16</th>\n",
       "      <td>[frozen smoothie, milk, mineral water, spaghetti]</td>\n",
       "      <td>[{'items_base': ['frozen smoothie', 'spaghetti'], 'items_add': ['milk', 'mineral water'], 'confidence': 0.20512820512820515, 'lift': 4.274074074074075}]</td>\n",
       "      <td>0.003200</td>\n",
       "    </tr>\n",
       "    <tr>\n",
       "      <th>17</th>\n",
       "      <td>[frozen vegetables, ground beef, milk, mineral water]</td>\n",
       "      <td>[{'items_base': ['frozen vegetables', 'ground beef'], 'items_add': ['milk', 'mineral water'], 'confidence': 0.22047244094488186, 'lift': 4.593788276465442}]</td>\n",
       "      <td>0.003733</td>\n",
       "    </tr>\n",
       "    <tr>\n",
       "      <th>18</th>\n",
       "      <td>[frozen vegetables, ground beef, mineral water, spaghetti]</td>\n",
       "      <td>[{'items_base': ['frozen vegetables', 'ground beef'], 'items_add': ['mineral water', 'spaghetti'], 'confidence': 0.25984251968503935, 'lift': 4.350622187851519}]</td>\n",
       "      <td>0.004399</td>\n",
       "    </tr>\n",
       "    <tr>\n",
       "      <th>19</th>\n",
       "      <td>[frozen vegetables, milk, mineral water, olive oil]</td>\n",
       "      <td>[{'items_base': ['frozen vegetables', 'olive oil'], 'items_add': ['milk', 'mineral water'], 'confidence': 0.29411764705882354, 'lift': 6.12826797385621}, {'items_base': ['frozen vegetables', 'milk', 'mineral water'], 'items_add': ['olive oil'], 'confidence': 0.30120481927710846, 'lift': 4.573557387444516}, {'items_base': ['milk', 'mineral water', 'olive oil'], 'items_add': ['frozen vegetables'], 'confidence': 0.39062500000000006, 'lift': 4.098011363636364}]</td>\n",
       "      <td>0.003333</td>\n",
       "    </tr>\n",
       "    <tr>\n",
       "      <th>20</th>\n",
       "      <td>[frozen vegetables, milk, mineral water, soup]</td>\n",
       "      <td>[{'items_base': ['frozen vegetables', 'soup'], 'items_add': ['milk', 'mineral water'], 'confidence': 0.3833333333333333, 'lift': 7.987175925925926}, {'items_base': ['milk', 'soup'], 'items_add': ['frozen vegetables', 'mineral water'], 'confidence': 0.20175438596491227, 'lift': 5.646864362398533}, {'items_base': ['frozen vegetables', 'milk', 'mineral water'], 'items_add': ['soup'], 'confidence': 0.27710843373493976, 'lift': 5.484407286136631}, {'items_base': ['frozen vegetables', 'mineral water', 'soup'], 'items_add': ['milk'], 'confidence': 0.6052631578947368, 'lift': 4.670863114576565}]</td>\n",
       "      <td>0.003066</td>\n",
       "    </tr>\n",
       "    <tr>\n",
       "      <th>21</th>\n",
       "      <td>[frozen vegetables, mineral water, shrimp, spaghetti]</td>\n",
       "      <td>[{'items_base': ['mineral water', 'shrimp', 'spaghetti'], 'items_add': ['frozen vegetables'], 'confidence': 0.39062500000000006, 'lift': 4.098011363636364}]</td>\n",
       "      <td>0.003333</td>\n",
       "    </tr>\n",
       "    <tr>\n",
       "      <th>22</th>\n",
       "      <td>[ground beef, mineral water, spaghetti, tomatoes]</td>\n",
       "      <td>[{'items_base': ['ground beef', 'tomatoes'], 'items_add': ['mineral water', 'spaghetti'], 'confidence': 0.26136363636363635, 'lift': 4.3760907061688314}]</td>\n",
       "      <td>0.003066</td>\n",
       "    </tr>\n",
       "  </tbody>\n",
       "</table>"
      ],
      "text/plain": [
       "<IPython.core.display.HTML object>"
      ]
     },
     "metadata": {},
     "output_type": "display_data"
    }
   ],
   "source": [
    "# и взгялнем на итоги\n",
    "pd.set_option('display.max_colwidth', -1)\n",
    "\n",
    "from IPython.display import display, HTML\n",
    "\n",
    "display(HTML(data_df.to_html()))"
   ]
  },
  {
   "cell_type": "markdown",
   "metadata": {},
   "source": [
    "Итого мы видим:\n",
    "\n",
    "1. Пары items\n",
    "2. items_base - первый элемент пары\n",
    "3. items_add - второй (добавленный алгоритмом) элемент пары\n",
    "4. confidence - значение confidence для пары\n",
    "5. lift - значение lift для пары\n",
    "6. support - начение support для пары. При желании, по нему можно отсортировать \n",
    "\n",
    "\n",
    "Результаты логичные: эскалоп и макароны, эскалоп и сливочно-грибной соус, курица и нежирная сметана, мягкий сыр и мед и т.д. - все это вполне логичные и, главное, вкусные сочетания:)"
   ]
  },
  {
   "cell_type": "code",
   "execution_count": 50,
   "metadata": {},
   "outputs": [],
   "source": [
    "import numpy as np\n",
    "\"\"\"\n",
    "Класс инициируется 3мя параметрами:\n",
    "- min_supp - минимальный support  который мы рассматриваем для ItemSet. Рассчитывается как % от количества транзакций\n",
    "- max_items - максимальное количество елементов в нашем ItemSet\n",
    "- min_items - минимальное количество элементов ItemSet\n",
    "\"\"\"\n",
    "class Eclat:\n",
    "    #инициализация объекта класса\n",
    "    def __init__(self, min_support = 0.01, max_items = 5, min_items = 2):\n",
    "        self.min_support = min_support\n",
    "        self.max_items = max_items\n",
    "        self.min_items = min_items\n",
    "        self.item_lst = list()\n",
    "        self.item_len = 0\n",
    "        self.item_dict = dict()\n",
    "        self.final_dict = dict()\n",
    "        self.data_size = 0\n",
    "    \n",
    "    #создание словаря из ненулевых объектов из всех транзакций (вертикальный датасет)\n",
    "    def read_data(self, dataset):\n",
    "        for index, row in dataset.iterrows():\n",
    "            row_wo_na = row.dropna().unique()\n",
    "            for item in row_wo_na:\n",
    "                item = item.strip()\n",
    "                if item in self.item_dict:\n",
    "                    self.item_dict[item][0] += 1\n",
    "                else:\n",
    "                    self.item_dict.setdefault(item, []).append(1)\n",
    "                self.item_dict[item].append(index)\n",
    "        #задаем переменные экземпляра (instance variables)\n",
    "        self.data_size = dataset.shape[0]\n",
    "        self.item_lst = list(self.item_dict.keys())\n",
    "        self.item_len = len(self.item_lst)\n",
    "        self.min_support = self.min_support * self.data_size\n",
    "        #print (\"min_supp\", self.min_support)\n",
    "        \n",
    "    #рекурсивный метод для поиска всех ItemSet по алгоритму Eclat\n",
    "    #структура данных: {Item: [Supp number, tid1, tid2, tid3, ...]}\n",
    "    def recur_eclat(self, item_name, tids_array, minsupp, num_items, k_start):\n",
    "        if tids_array[0] >= minsupp and num_items <= self.max_items:\n",
    "            for k in range(k_start+1, self.item_len):\n",
    "                if self.item_dict[self.item_lst[k]][0] >= minsupp:\n",
    "                    new_item = item_name + \" | \" + self.item_lst[k]\n",
    "                    new_tids = np.intersect1d(tids_array[1:], self.item_dict[self.item_lst[k]][1:])\n",
    "                    new_tids_size = new_tids.size\n",
    "                    new_tids = np.insert(new_tids, 0, new_tids_size)\n",
    "                    if new_tids_size >= minsupp:\n",
    "                        if num_items >= self.min_items: self.final_dict.update({new_item: new_tids})\n",
    "                        self.recur_eclat(new_item, new_tids, minsupp, num_items+1, k)\n",
    "    \n",
    "    #последовательный вызов функций определенных выше\n",
    "    def fit(self, dataset):\n",
    "        i = 0\n",
    "        self.read_data(dataset)\n",
    "        for w in self.item_lst:\n",
    "            self.recur_eclat(w, self.item_dict[w], self.min_support, 2, i)\n",
    "            i+=1\n",
    "        return self\n",
    "        \n",
    "    #вывод в форме словаря {ItemSet: support(ItemSet)}\n",
    "    def transform(self):\n",
    "        return {k: \"{0:.4f}%\".format((v[0]+0.0)/self.data_size*100) for k, v in self.final_dict.items()}"
   ]
  },
  {
   "cell_type": "markdown",
   "metadata": {},
   "source": [
    "Потестируем"
   ]
  },
  {
   "cell_type": "markdown",
   "metadata": {},
   "source": [
    "Алгоритмы поиска ассоциативных правил предназначены для нахождения всех правил XYXY, причем поддержка и достоверность этих правил должны быть выше некоторых наперед определенных порогов, называемых соответственно минимальной поддержкой (minsupport) и минимальной достоверностью (minconfidence).\n",
    "\n",
    "Задача нахождения ассоциативных правил разбивается на две подзадачи:"
   ]
  },
  {
   "cell_type": "markdown",
   "metadata": {},
   "source": [
    "Нахождение всех наборов элементов, которые удовлетворяют порогу minsupport. Такие наборы элементов называются часто встречающимися.\n",
    "Генерация правил из наборов элементов, найденных согласно п.1. с достоверностью, удовлетворяющей порогу minconfidence.\n",
    "Один из первых алгоритмов, эффективно решающих подобный класс задач, — это алгоритм APriori [2]. Кроме него были разработаны и другие алгоритмы: DHP[5], Partition[6], DIC[7] и другие."
   ]
  },
  {
   "cell_type": "code",
   "execution_count": 51,
   "metadata": {},
   "outputs": [],
   "source": [
    "#создадим экземпляр класса с нужными нам параметрами\n",
    "model = Eclat(min_support = 0.01, max_items = 4, min_items = 3)"
   ]
  },
  {
   "cell_type": "code",
   "execution_count": 52,
   "metadata": {},
   "outputs": [
    {
     "data": {
      "text/plain": [
       "<__main__.Eclat at 0x19e65524128>"
      ]
     },
     "execution_count": 52,
     "metadata": {},
     "output_type": "execute_result"
    }
   ],
   "source": [
    "#обучим\n",
    "model.fit(dataset)"
   ]
  },
  {
   "cell_type": "code",
   "execution_count": 53,
   "metadata": {},
   "outputs": [
    {
     "data": {
      "text/plain": [
       "{'mineral water | olive oil | spaghetti': '1.0265%',\n",
       " 'mineral water | eggs | milk': '1.3065%',\n",
       " 'mineral water | eggs | spaghetti': '1.4265%',\n",
       " 'mineral water | eggs | chocolate': '1.3465%',\n",
       " 'mineral water | eggs | ground beef': '1.0132%',\n",
       " 'mineral water | milk | frozen vegetables': '1.1065%',\n",
       " 'mineral water | milk | spaghetti': '1.5731%',\n",
       " 'mineral water | milk | chocolate': '1.3998%',\n",
       " 'mineral water | milk | ground beef': '1.1065%',\n",
       " 'mineral water | french fries | spaghetti': '1.0132%',\n",
       " 'mineral water | frozen vegetables | spaghetti': '1.1998%',\n",
       " 'mineral water | spaghetti | chocolate': '1.5865%',\n",
       " 'mineral water | spaghetti | pancakes': '1.1465%',\n",
       " 'mineral water | spaghetti | ground beef': '1.7064%',\n",
       " 'mineral water | chocolate | ground beef': '1.0932%',\n",
       " 'eggs | spaghetti | chocolate': '1.0532%',\n",
       " 'milk | spaghetti | chocolate': '1.0932%'}"
      ]
     },
     "execution_count": 53,
     "metadata": {},
     "output_type": "execute_result"
    }
   ],
   "source": [
    "#и визуализируем результаты\n",
    "model.transform()"
   ]
  },
  {
   "cell_type": "markdown",
   "metadata": {},
   "source": [
    "Как видно, реализовать алгоритм своими силами довольно просто, хотя с эффективностью стоит поработать:)"
   ]
  },
  {
   "cell_type": "code",
   "execution_count": 54,
   "metadata": {},
   "outputs": [
    {
     "name": "stdout",
     "output_type": "stream",
     "text": [
      "Requirement already satisfied: pyfpgrowth in c:\\users\\asus\\anaconda3\\lib\\site-packages (1.0)\n",
      "Note: you may need to restart the kernel to use updated packages.\n"
     ]
    }
   ],
   "source": [
    "pip install pyfpgrowth"
   ]
  },
  {
   "cell_type": "code",
   "execution_count": 55,
   "metadata": {},
   "outputs": [],
   "source": [
    "import pyfpgrowth"
   ]
  },
  {
   "cell_type": "code",
   "execution_count": 56,
   "metadata": {},
   "outputs": [],
   "source": [
    "#Сгенериуем паттерны\n",
    "patterns = pyfpgrowth.find_frequent_patterns(transactions, 2)"
   ]
  },
  {
   "cell_type": "code",
   "execution_count": 57,
   "metadata": {},
   "outputs": [],
   "source": [
    "#Выучим правила\n",
    "rules = pyfpgrowth.generate_association_rules(patterns, 30);"
   ]
  },
  {
   "cell_type": "code",
   "execution_count": null,
   "metadata": {},
   "outputs": [],
   "source": [
    "#Покажем\n",
    "rules;"
   ]
  }
 ],
 "metadata": {
  "kernelspec": {
   "display_name": "Python 3",
   "language": "python",
   "name": "python3"
  },
  "language_info": {
   "codemirror_mode": {
    "name": "ipython",
    "version": 3
   },
   "file_extension": ".py",
   "mimetype": "text/x-python",
   "name": "python",
   "nbconvert_exporter": "python",
   "pygments_lexer": "ipython3",
   "version": "3.7.3"
  }
 },
 "nbformat": 4,
 "nbformat_minor": 4
}
